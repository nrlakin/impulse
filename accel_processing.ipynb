{
 "cells": [
  {
   "cell_type": "code",
   "execution_count": 1,
   "metadata": {
    "collapsed": true
   },
   "outputs": [],
   "source": [
    "import aware_models as am\n",
    "\n",
    "s = am.get_session()"
   ]
  },
  {
   "cell_type": "code",
   "execution_count": 2,
   "metadata": {
    "collapsed": false
   },
   "outputs": [],
   "source": [
    "devices = s.query(am.Device).order_by(am.Device.timestamp.desc()).all()"
   ]
  },
  {
   "cell_type": "code",
   "execution_count": 3,
   "metadata": {
    "collapsed": false
   },
   "outputs": [
    {
     "data": {
      "text/plain": [
       "[<Device \"9\" Device \"d971dcb2-c9b7-4c1e-b8cc-4f0fa987e78b\">,\n",
       " <Device \"8\" Device \"8e5ddc9e-545f-43b7-b9ea-25bb30e1772e\">,\n",
       " <Device \"7\" Device \"e0cf5273-380b-4ac7-9664-44b03f0b3ccf\">,\n",
       " <Device \"6\" Device \"aa6d7688-58ee-46e5-b6ff-390385bf91d9\">,\n",
       " <Device \"5\" Device \"055071a1-1199-4f94-9dc5-0de64af632de\">,\n",
       " <Device \"3\" Device \"78694978-00c8-4d0a-9270-0c4973675eaa\">,\n",
       " <Device \"4\" Device \"8ac3a283-010e-4763-b519-751850dd6970\">,\n",
       " <Device \"1\" Device \"00b095de-7fd4-4a2c-bf7c-8dc2b8b04861\">]"
      ]
     },
     "execution_count": 3,
     "metadata": {},
     "output_type": "execute_result"
    }
   ],
   "source": [
    "devices"
   ]
  },
  {
   "cell_type": "code",
   "execution_count": 4,
   "metadata": {
    "collapsed": false
   },
   "outputs": [
    {
     "data": {
      "text/plain": [
       "<Device \"9\" Device \"d971dcb2-c9b7-4c1e-b8cc-4f0fa987e78b\">"
      ]
     },
     "execution_count": 4,
     "metadata": {},
     "output_type": "execute_result"
    }
   ],
   "source": [
    "devices[0]"
   ]
  },
  {
   "cell_type": "code",
   "execution_count": 5,
   "metadata": {
    "collapsed": false
   },
   "outputs": [
    {
     "data": {
      "text/plain": [
       "<Device \"8\" Device \"8e5ddc9e-545f-43b7-b9ea-25bb30e1772e\">"
      ]
     },
     "execution_count": 5,
     "metadata": {},
     "output_type": "execute_result"
    }
   ],
   "source": [
    "devices[1]"
   ]
  },
  {
   "cell_type": "code",
   "execution_count": 6,
   "metadata": {
    "collapsed": true
   },
   "outputs": [],
   "source": [
    "neil = s.query(am.Device).get(5)"
   ]
  },
  {
   "cell_type": "code",
   "execution_count": 7,
   "metadata": {
    "collapsed": false
   },
   "outputs": [
    {
     "name": "stdout",
     "output_type": "stream",
     "text": [
      "id: 1 | time: 2016-07-10T17:59:20.459000-04:00 | duration: 0 | target: 6EEB05DC-046B-4806-B83A-C1CEF120ACB1\n",
      "id: 2 | time: 2016-07-10T17:59:22.541000-04:00 | duration: 2 | target: 6EEB05DC-046B-4806-B83A-C1CEF120ACB1\n",
      "id: 3 | time: 2016-07-10T18:46:53.834000-04:00 | duration: 2851 | target: 6EEB05DC-046B-4806-B83A-C1CEF120ACB1\n",
      "id: 4 | time: 2016-07-13T09:46:29.472000-04:00 | duration: 0 | target: 5C004E64-01CD-4CC5-A903-E9E17E92A258\n",
      "id: 5 | time: 2016-07-13T09:46:30.825000-04:00 | duration: 1 | target: 5C004E64-01CD-4CC5-A903-E9E17E92A258\n",
      "id: 6 | time: 2016-07-13T09:46:36.178000-04:00 | duration: 5 | target: 5C004E64-01CD-4CC5-A903-E9E17E92A258\n",
      "id: 7 | time: 2016-07-13T11:52:32.659000-04:00 | duration: 0 | target: 06DB6D05-C9AA-4B4D-97FA-1E24B6AA0560\n",
      "id: 8 | time: 2016-07-13T11:52:34.303000-04:00 | duration: 1 | target: 06DB6D05-C9AA-4B4D-97FA-1E24B6AA0560\n",
      "id: 9 | time: 2016-07-13T12:02:58.468000-04:00 | duration: 624 | target: 06DB6D05-C9AA-4B4D-97FA-1E24B6AA0560\n",
      "id: 10 | time: 2016-07-13T13:55:26.132000-04:00 | duration: 0 | target: 60D59164-5807-4928-9113-4973D477E68E\n",
      "id: 11 | time: 2016-07-13T13:55:28.283000-04:00 | duration: 2 | target: 60D59164-5807-4928-9113-4973D477E68E\n",
      "id: 12 | time: 2016-07-13T13:56:18.397000-04:00 | duration: 50 | target: 60D59164-5807-4928-9113-4973D477E68E\n",
      "id: 13 | time: 2016-07-13T15:20:07.302000-04:00 | duration: 0 | target: 9B99A04F-83F8-4E61-8F1D-795A4B794CF0\n",
      "id: 14 | time: 2016-07-13T15:20:09.933000-04:00 | duration: 2 | target: 9B99A04F-83F8-4E61-8F1D-795A4B794CF0\n",
      "id: 15 | time: 2016-07-13T15:25:22.943000-04:00 | duration: 313 | target: 9B99A04F-83F8-4E61-8F1D-795A4B794CF0\n",
      "id: 16 | time: 2016-07-13T16:40:42.437000-04:00 | duration: 0 | target: BAE870E1-B58D-4FDE-A60D-E48EBF6601CA\n",
      "id: 17 | time: 2016-07-13T16:40:43.491000-04:00 | duration: 1 | target: BAE870E1-B58D-4FDE-A60D-E48EBF6601CA\n",
      "id: 18 | time: 2016-07-13T16:41:49.257000-04:00 | duration: 65 | target: BAE870E1-B58D-4FDE-A60D-E48EBF6601CA\n",
      "id: 19 | time: 2016-07-13T17:03:24.042000-04:00 | duration: 0 | target: 876DC0C9-2437-45C4-9147-7384BAF69E62\n",
      "id: 20 | time: 2016-07-13T17:03:25.792000-04:00 | duration: 1 | target: 876DC0C9-2437-45C4-9147-7384BAF69E62\n",
      "id: 21 | time: 2016-07-13T17:03:58.819000-04:00 | duration: 33 | target: 876DC0C9-2437-45C4-9147-7384BAF69E62\n",
      "id: 22 | time: 2016-07-13T17:20:43.348000-04:00 | duration: 0 | target: A11376E8-699C-4540-9832-9CAC1225915F\n",
      "id: 23 | time: 2016-07-13T17:20:55.353000-04:00 | duration: 12 | target: A11376E8-699C-4540-9832-9CAC1225915F\n",
      "id: 24 | time: 2016-07-13T17:28:43.169000-04:00 | duration: 467 | target: A11376E8-699C-4540-9832-9CAC1225915F\n",
      "id: 25 | time: 2016-07-13T18:04:14.281000-04:00 | duration: 0 | target: 346028E6-837F-4B14-985B-A85CFB424588\n",
      "id: 26 | time: 2016-07-13T18:04:24.902000-04:00 | duration: 10 | target: 346028E6-837F-4B14-985B-A85CFB424588\n",
      "id: 27 | time: 2016-07-13T18:23:09.552000-04:00 | duration: 1124 | target: 346028E6-837F-4B14-985B-A85CFB424588\n",
      "id: 29 | time: 2016-07-14T14:57:51.148000-04:00 | duration: 0 | target: 0BBD6C05-6277-4F4D-B824-6426B2991CCB\n",
      "id: 30 | time: 2016-07-14T14:57:55.114000-04:00 | duration: 3 | target: 0BBD6C05-6277-4F4D-B824-6426B2991CCB\n",
      "id: 31 | time: 2016-07-14T15:06:59.529000-04:00 | duration: 544 | target: 0BBD6C05-6277-4F4D-B824-6426B2991CCB\n",
      "id: 32 | time: 2016-07-14T17:20:02.044000-04:00 | duration: 0 | target: 9A11DF6B-2583-4586-A338-7FAACEC4BFF0\n",
      "id: 33 | time: 2016-07-14T17:20:03.246000-04:00 | duration: 1 | target: 9A11DF6B-2583-4586-A338-7FAACEC4BFF0\n",
      "id: 34 | time: 2016-07-14T17:30:43.799000-04:00 | duration: 0 | target: E313FBA5-96B9-447D-A3FC-66141D506AE0\n",
      "id: 35 | time: 2016-07-14T17:31:05.610000-04:00 | duration: 21 | target: E313FBA5-96B9-447D-A3FC-66141D506AE0\n",
      "id: 36 | time: 2016-07-14T17:38:48.876000-04:00 | duration: 463 | target: 9A11DF6B-2583-4586-A338-7FAACEC4BFF0\n",
      "id: 37 | time: 2016-07-14T17:44:11.155000-04:00 | duration: 0 | target: 21585A4C-8F6C-4520-83DF-BF2D2F03CD45\n",
      "id: 38 | time: 2016-07-14T17:44:12.586000-04:00 | duration: 1 | target: 21585A4C-8F6C-4520-83DF-BF2D2F03CD45\n",
      "id: 39 | time: 2016-07-14T18:22:15.965000-04:00 | duration: 2283 | target: 21585A4C-8F6C-4520-83DF-BF2D2F03CD45\n",
      "id: 40 | time: 2016-07-15T11:22:13.691000-04:00 | duration: 0 | target: 8B293941-AB0E-4929-A079-5143C1E24CBD\n",
      "id: 41 | time: 2016-07-15T11:22:15.149000-04:00 | duration: 1 | target: 8B293941-AB0E-4929-A079-5143C1E24CBD\n",
      "id: 42 | time: 2016-07-15T11:22:46.380000-04:00 | duration: 31 | target: 8B293941-AB0E-4929-A079-5143C1E24CBD\n",
      "id: 43 | time: 2016-07-15T11:42:14.332000-04:00 | duration: 0 | target: 88465FFC-9002-4C0E-A021-E067250B44C6\n",
      "id: 44 | time: 2016-07-15T11:42:16.323000-04:00 | duration: 1 | target: 88465FFC-9002-4C0E-A021-E067250B44C6\n",
      "id: 45 | time: 2016-07-15T11:42:44.581000-04:00 | duration: 28 | target: 88465FFC-9002-4C0E-A021-E067250B44C6\n",
      "id: 46 | time: 2016-07-15T12:32:14.204000-04:00 | duration: 0 | target: 54666E74-730B-4A54-8A73-E555491A0A2A\n",
      "id: 47 | time: 2016-07-15T12:32:14.211000-04:00 | duration: 0 | target: 54666E74-730B-4A54-8A73-E555491A0A2A\n",
      "id: 48 | time: 2016-07-15T12:33:02.295000-04:00 | duration: 48 | target: 54666E74-730B-4A54-8A73-E555491A0A2A\n",
      "id: 49 | time: 2016-07-15T12:34:40.319000-04:00 | duration: 0 | target: DB4CFF02-5722-4689-8FD6-8F8A5B644443\n",
      "id: 50 | time: 2016-07-15T12:34:50.672000-04:00 | duration: 10 | target: DB4CFF02-5722-4689-8FD6-8F8A5B644443\n",
      "id: 51 | time: 2016-07-15T12:36:25.934000-04:00 | duration: 0 | target: 30AAA6E1-C65A-402E-BC38-06A1BB947528\n",
      "id: 52 | time: 2016-07-15T12:36:27.146000-04:00 | duration: 1 | target: 30AAA6E1-C65A-402E-BC38-06A1BB947528\n",
      "id: 53 | time: 2016-07-15T13:10:34.873000-04:00 | duration: 2047 | target: 30AAA6E1-C65A-402E-BC38-06A1BB947528\n",
      "id: 54 | time: 2016-07-15T14:27:31.198000-04:00 | duration: 0 | target: 94906E5A-63E3-47D3-8870-865F4C108A68\n",
      "id: 55 | time: 2016-07-15T14:27:33.161000-04:00 | duration: 1 | target: 94906E5A-63E3-47D3-8870-865F4C108A68\n",
      "id: 56 | time: 2016-07-15T14:28:10.072000-04:00 | duration: 36 | target: 94906E5A-63E3-47D3-8870-865F4C108A68\n",
      "id: 57 | time: 2016-07-15T14:32:52.166000-04:00 | duration: 0 | target: 5A06CC85-2954-40B3-B746-FE9B9751E9EB\n",
      "id: 58 | time: 2016-07-15T14:32:53.173000-04:00 | duration: 1 | target: 5A06CC85-2954-40B3-B746-FE9B9751E9EB\n",
      "id: 59 | time: 2016-07-15T14:34:06.734000-04:00 | duration: 73 | target: 5A06CC85-2954-40B3-B746-FE9B9751E9EB\n",
      "id: 60 | time: 2016-07-15T14:38:50.167000-04:00 | duration: 0 | target: 5AD91A72-BA8A-461B-AEEE-83A0CDAD9F36\n",
      "id: 61 | time: 2016-07-15T14:38:51.776000-04:00 | duration: 1 | target: 5AD91A72-BA8A-461B-AEEE-83A0CDAD9F36\n",
      "id: 62 | time: 2016-07-15T15:17:47.619000-04:00 | duration: 2335 | target: 5AD91A72-BA8A-461B-AEEE-83A0CDAD9F36\n",
      "id: 63 | time: 2016-07-15T16:04:31.426000-04:00 | duration: 0 | target: F9ADC75B-A0F2-46F3-96FB-843604333DA0\n",
      "id: 64 | time: 2016-07-15T16:04:32.793000-04:00 | duration: 1 | target: F9ADC75B-A0F2-46F3-96FB-843604333DA0\n",
      "id: 65 | time: 2016-07-15T16:05:22.860000-04:00 | duration: 50 | target: F9ADC75B-A0F2-46F3-96FB-843604333DA0\n",
      "id: 66 | time: 2016-07-15T16:16:30.307000-04:00 | duration: 0 | target: A351AF99-5D7C-4347-A9B3-DA4C616FD3BF\n",
      "id: 67 | time: 2016-07-15T16:16:31.516000-04:00 | duration: 1 | target: A351AF99-5D7C-4347-A9B3-DA4C616FD3BF\n",
      "id: 68 | time: 2016-07-15T17:08:17.924000-04:00 | duration: 3106 | target: A351AF99-5D7C-4347-A9B3-DA4C616FD3BF\n",
      "id: 69 | time: 2016-07-15T17:13:27.374000-04:00 | duration: 0 | target: FF0B545C-C0AD-497E-86DF-B9BE943E0BF5\n",
      "id: 70 | time: 2016-07-15T17:13:33.008000-04:00 | duration: 5 | target: FF0B545C-C0AD-497E-86DF-B9BE943E0BF5\n",
      "id: 71 | time: 2016-07-15T17:14:14.429000-04:00 | duration: 41 | target: FF0B545C-C0AD-497E-86DF-B9BE943E0BF5\n",
      "id: 72 | time: 2016-07-15T18:20:50.572000-04:00 | duration: 0 | target: E5F2CF7E-9610-4E6C-8053-5002482B4706\n",
      "id: 73 | time: 2016-07-15T18:20:52.572000-04:00 | duration: 2 | target: E5F2CF7E-9610-4E6C-8053-5002482B4706\n",
      "id: 74 | time: 2016-07-15T18:23:23.273000-04:00 | duration: 150 | target: E5F2CF7E-9610-4E6C-8053-5002482B4706\n",
      "id: 75 | time: 2016-07-16T10:30:32.128000-04:00 | duration: 0 | target: 5DDD7BCC-B174-47EA-B299-C44A679AE29B\n",
      "id: 76 | time: 2016-07-16T10:30:34.893000-04:00 | duration: 2 | target: 5DDD7BCC-B174-47EA-B299-C44A679AE29B\n",
      "id: 77 | time: 2016-07-16T11:31:24.814000-04:00 | duration: 0 | target: E36371A1-398B-4F40-9587-C053E468BFF1\n",
      "id: 78 | time: 2016-07-16T11:31:26.741000-04:00 | duration: 1 | target: E36371A1-398B-4F40-9587-C053E468BFF1\n",
      "id: 79 | time: 2016-07-16T11:31:34.774000-04:00 | duration: 8 | target: E36371A1-398B-4F40-9587-C053E468BFF1\n",
      "id: 80 | time: 2016-07-16T11:33:56.120000-04:00 | duration: 0 | target: C80A57DE-B3C8-47F4-A10C-518506BFC7CB\n",
      "id: 81 | time: 2016-07-16T11:33:57.730000-04:00 | duration: 1 | target: C80A57DE-B3C8-47F4-A10C-518506BFC7CB\n",
      "id: 82 | time: 2016-07-16T11:36:33.413000-04:00 | duration: 155 | target: C80A57DE-B3C8-47F4-A10C-518506BFC7CB\n",
      "id: 83 | time: 2016-07-16T11:58:16.097000-04:00 | duration: 0 | target: C5394B75-E212-45C0-A093-B31429375964\n",
      "id: 84 | time: 2016-07-16T11:58:17.098000-04:00 | duration: 1 | target: C5394B75-E212-45C0-A093-B31429375964\n",
      "id: 85 | time: 2016-07-16T11:59:47.228000-04:00 | duration: 90 | target: C5394B75-E212-45C0-A093-B31429375964\n",
      "id: 86 | time: 2016-07-16T12:36:28.141000-04:00 | duration: 0 | target: 6C2D663F-C5D9-44B8-AB0F-6C7894AFDFD6\n",
      "id: 87 | time: 2016-07-16T12:36:29.524000-04:00 | duration: 1 | target: 6C2D663F-C5D9-44B8-AB0F-6C7894AFDFD6\n",
      "id: 88 | time: 2016-07-16T12:37:08.151000-04:00 | duration: 38 | target: 6C2D663F-C5D9-44B8-AB0F-6C7894AFDFD6\n",
      "id: 89 | time: 2016-07-16T12:48:11.745000-04:00 | duration: 0 | target: D73FEB95-1AF9-4458-A85C-A3EE16785C3F\n",
      "id: 90 | time: 2016-07-16T12:48:12.963000-04:00 | duration: 1 | target: D73FEB95-1AF9-4458-A85C-A3EE16785C3F\n",
      "id: 91 | time: 2016-07-16T12:48:22.677000-04:00 | duration: 9 | target: D73FEB95-1AF9-4458-A85C-A3EE16785C3F\n",
      "id: 92 | time: 2016-07-16T12:48:34.603000-04:00 | duration: 0 | target: A7BE4DD5-6DE4-4330-81B6-5B3866268070\n",
      "id: 93 | time: 2016-07-16T12:48:37.655000-04:00 | duration: 3 | target: A7BE4DD5-6DE4-4330-81B6-5B3866268070\n",
      "id: 94 | time: 2016-07-16T13:00:06.641000-04:00 | duration: 688 | target: A7BE4DD5-6DE4-4330-81B6-5B3866268070\n",
      "id: 95 | time: 2016-07-18T19:21:38.480000-04:00 | duration: 0 | target: 4C64C304-2B6C-47DE-9AE6-E8D69EA5314D\n",
      "id: 96 | time: 2016-07-18T19:21:39.370000-04:00 | duration: 0 | target: 4C64C304-2B6C-47DE-9AE6-E8D69EA5314D\n",
      "id: 97 | time: 2016-07-18T19:22:36.152000-04:00 | duration: 55 | target: 4C64C304-2B6C-47DE-9AE6-E8D69EA5314D\n",
      "id: 98 | time: 2016-07-18T19:23:40.758000-04:00 | duration: 0 | target: F2C60804-2829-47E1-A323-2ACA3FD20557\n",
      "id: 99 | time: 2016-07-18T19:23:42.978000-04:00 | duration: 2 | target: F2C60804-2829-47E1-A323-2ACA3FD20557\n",
      "id: 100 | time: 2016-07-18T19:38:44.294000-04:00 | duration: 901 | target: F2C60804-2829-47E1-A323-2ACA3FD20557\n",
      "id: 102 | time: 2016-07-18T19:56:51.279000-04:00 | duration: 0 | target: 06DFFEFC-87F9-477F-AA8C-007A02B81FFA\n",
      "id: 103 | time: 2016-07-18T19:56:53.534000-04:00 | duration: 2 | target: 06DFFEFC-87F9-477F-AA8C-007A02B81FFA\n",
      "id: 104 | time: 2016-07-18T20:10:49.182000-04:00 | duration: 835 | target: 06DFFEFC-87F9-477F-AA8C-007A02B81FFA\n"
     ]
    }
   ],
   "source": [
    "neil_calls = s.query(am.Call).filter(am.Call.device_id == neil.device_id).all()\n",
    "import pytz\n",
    "eastern = pytz.timezone('US/Eastern')\n",
    "for call in neil_calls:\n",
    "    print(\"id: %d | time: %s | duration: %d | target: %s\" % (call._id, call.timestamp.astimezone(eastern).isoformat(), call.call_duration, call.trace))"
   ]
  },
  {
   "cell_type": "code",
   "execution_count": 8,
   "metadata": {
    "collapsed": true
   },
   "outputs": [],
   "source": [
    "not_neil = s.query(am.Call).filter(am.Call.device_id != neil.device_id).all()"
   ]
  },
  {
   "cell_type": "code",
   "execution_count": 9,
   "metadata": {
    "collapsed": false
   },
   "outputs": [
    {
     "data": {
      "text/plain": [
       "5"
      ]
     },
     "execution_count": 9,
     "metadata": {},
     "output_type": "execute_result"
    }
   ],
   "source": [
    "len(not_neil)\n"
   ]
  },
  {
   "cell_type": "code",
   "execution_count": 10,
   "metadata": {
    "collapsed": false
   },
   "outputs": [
    {
     "data": {
      "text/plain": [
       "<module 'aware_models' from 'aware_models.pyc'>"
      ]
     },
     "execution_count": 10,
     "metadata": {},
     "output_type": "execute_result"
    }
   ],
   "source": [
    "reload(am)"
   ]
  },
  {
   "cell_type": "code",
   "execution_count": 11,
   "metadata": {
    "collapsed": false
   },
   "outputs": [],
   "source": [
    "from datetime import datetime, timedelta\n",
    "start_fri = eastern.localize(datetime(2016, 7, 15, 0, 0)).astimezone(pytz.utc)\n",
    "end_fri = eastern.localize(datetime(2016, 7, 15, 23, 59, 59)).astimezone(pytz.utc)\n",
    "accel_fri = s.query(am.Accelerometer).filter(am.Accelerometer.device_id == neil.device_id).filter(am.Accelerometer.timestamp > start_fri).filter(am.Accelerometer.timestamp <= end_fri).all()"
   ]
  },
  {
   "cell_type": "code",
   "execution_count": 12,
   "metadata": {
    "collapsed": false
   },
   "outputs": [
    {
     "data": {
      "text/plain": [
       "239406"
      ]
     },
     "execution_count": 12,
     "metadata": {},
     "output_type": "execute_result"
    }
   ],
   "source": [
    "len(accel_fri)\n"
   ]
  },
  {
   "cell_type": "code",
   "execution_count": 13,
   "metadata": {
    "collapsed": true
   },
   "outputs": [],
   "source": [
    "import numpy as np"
   ]
  },
  {
   "cell_type": "code",
   "execution_count": 14,
   "metadata": {
    "collapsed": false
   },
   "outputs": [],
   "source": [
    "%matplotlib inline"
   ]
  },
  {
   "cell_type": "code",
   "execution_count": 15,
   "metadata": {
    "collapsed": true
   },
   "outputs": [],
   "source": [
    "from matplotlib import pyplot as plt"
   ]
  },
  {
   "cell_type": "code",
   "execution_count": 16,
   "metadata": {
    "collapsed": true
   },
   "outputs": [],
   "source": [
    "times = [accel.timestamp.astimezone(eastern) for accel in accel_fri]\n",
    "x = [accel.double_values_0 for accel in accel_fri]\n",
    "y = [accel.double_values_1 for accel in accel_fri]\n",
    "z = [accel.double_values_2 for accel in accel_fri]\n",
    "readings = [[float(xp), float(yp), float(zp)] for xp,yp,zp in zip(x, y, z)]"
   ]
  },
  {
   "cell_type": "code",
   "execution_count": 17,
   "metadata": {
    "collapsed": true
   },
   "outputs": [],
   "source": [
    "x_axis = np.array(times)"
   ]
  },
  {
   "cell_type": "code",
   "execution_count": 18,
   "metadata": {
    "collapsed": false
   },
   "outputs": [
    {
     "data": {
      "text/plain": [
       "[[-0.022171020507812, -0.042938232421875, 1.0064849853516],\n",
       " [-0.022735595703125, -0.043624877929688, 1.0049285888672],\n",
       " [-0.023773193359375, -0.04388427734375, 1.0085296630859],\n",
       " [-0.023452758789062, -0.044357299804688, 1.0086059570312],\n",
       " [-0.021484375, -0.043548583984375, 1.0056457519531]]"
      ]
     },
     "execution_count": 18,
     "metadata": {},
     "output_type": "execute_result"
    }
   ],
   "source": [
    "readings[:5]"
   ]
  },
  {
   "cell_type": "code",
   "execution_count": 19,
   "metadata": {
    "collapsed": true
   },
   "outputs": [],
   "source": [
    "readings = np.array(readings)"
   ]
  },
  {
   "cell_type": "code",
   "execution_count": 20,
   "metadata": {
    "collapsed": false
   },
   "outputs": [
    {
     "data": {
      "text/plain": [
       "(239406, 3)"
      ]
     },
     "execution_count": 20,
     "metadata": {},
     "output_type": "execute_result"
    }
   ],
   "source": [
    "readings.shape"
   ]
  },
  {
   "cell_type": "code",
   "execution_count": 21,
   "metadata": {
    "collapsed": false
   },
   "outputs": [
    {
     "data": {
      "text/plain": [
       "(239406,)"
      ]
     },
     "execution_count": 21,
     "metadata": {},
     "output_type": "execute_result"
    }
   ],
   "source": [
    "x_axis.shape"
   ]
  },
  {
   "cell_type": "code",
   "execution_count": 22,
   "metadata": {
    "collapsed": false,
    "scrolled": true
   },
   "outputs": [
    {
     "data": {
      "text/plain": [
       "array([[ datetime.datetime(2016, 7, 15, 0, 13, 47, 465000, tzinfo=<DstTzInfo 'US/Eastern' EDT-1 day, 20:00:00 DST>)],\n",
       "       [ datetime.datetime(2016, 7, 15, 0, 13, 47, 564000, tzinfo=<DstTzInfo 'US/Eastern' EDT-1 day, 20:00:00 DST>)],\n",
       "       [ datetime.datetime(2016, 7, 15, 0, 13, 47, 663000, tzinfo=<DstTzInfo 'US/Eastern' EDT-1 day, 20:00:00 DST>)],\n",
       "       ..., \n",
       "       [ datetime.datetime(2016, 7, 15, 23, 22, 28, 34000, tzinfo=<DstTzInfo 'US/Eastern' EDT-1 day, 20:00:00 DST>)],\n",
       "       [ datetime.datetime(2016, 7, 15, 23, 22, 28, 132000, tzinfo=<DstTzInfo 'US/Eastern' EDT-1 day, 20:00:00 DST>)],\n",
       "       [ datetime.datetime(2016, 7, 15, 23, 22, 28, 231000, tzinfo=<DstTzInfo 'US/Eastern' EDT-1 day, 20:00:00 DST>)]], dtype=object)"
      ]
     },
     "execution_count": 22,
     "metadata": {},
     "output_type": "execute_result"
    }
   ],
   "source": [
    "x_axis.reshape(x_axis.shape[0], 1)"
   ]
  },
  {
   "cell_type": "code",
   "execution_count": 23,
   "metadata": {
    "collapsed": false
   },
   "outputs": [
    {
     "data": {
      "text/plain": [
       "[<matplotlib.lines.Line2D at 0x1085b7910>,\n",
       " <matplotlib.lines.Line2D at 0x1085b7b50>,\n",
       " <matplotlib.lines.Line2D at 0x1085b7d90>]"
      ]
     },
     "execution_count": 23,
     "metadata": {},
     "output_type": "execute_result"
    },
    {
     "data": {
      "image/png": "[encoded data removed]",
      "text/plain": [
       "<matplotlib.figure.Figure at 0x109660950>"
      ]
     },
     "metadata": {},
     "output_type": "display_data"
    }
   ],
   "source": [
    "plt.figure(figsize=(20,10))\n",
    "plt.plot(x_axis, readings)"
   ]
  },
  {
   "cell_type": "code",
   "execution_count": 24,
   "metadata": {
    "collapsed": false
   },
   "outputs": [
    {
     "data": {
      "text/plain": [
       "<module 'aware_models' from 'aware_models.pyc'>"
      ]
     },
     "execution_count": 24,
     "metadata": {},
     "output_type": "execute_result"
    }
   ],
   "source": [
    "reload(am)"
   ]
  },
  {
   "cell_type": "code",
   "execution_count": null,
   "metadata": {
    "collapsed": true
   },
   "outputs": [],
   "source": []
  }
 ],
 "metadata": {
  "kernelspec": {
   "display_name": "Python 2",
   "language": "python",
   "name": "python2"
  },
  "language_info": {
   "codemirror_mode": {
    "name": "ipython",
    "version": 2
   },
   "file_extension": ".py",
   "mimetype": "text/x-python",
   "name": "python",
   "nbconvert_exporter": "python",
   "pygments_lexer": "ipython2",
   "version": "2.7.10"
  }
 },
 "nbformat": 4,
 "nbformat_minor": 0
}
